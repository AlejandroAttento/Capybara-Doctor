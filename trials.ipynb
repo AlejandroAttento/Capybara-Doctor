{
 "cells": [
  {
   "cell_type": "markdown",
   "metadata": {},
   "source": [
    "# Initialization"
   ]
  },
  {
   "cell_type": "markdown",
   "metadata": {},
   "source": [
    "## Load libraries"
   ]
  },
  {
   "cell_type": "code",
   "execution_count": 1,
   "metadata": {},
   "outputs": [],
   "source": [
    "import os\n",
    "import json\n",
    "import torch\n",
    "from tqdm import tqdm\n",
    "import hashlib\n",
    "from pprint import pprint\n",
    "from dotenv import load_dotenv\n",
    "from pinecone import Pinecone\n",
    "from concurrent.futures import ThreadPoolExecutor, as_completed\n",
    "from huggingface_hub import hf_hub_download\n",
    "import transformers\n",
    "from langchain.chains import RetrievalQA\n",
    "from langchain_huggingface.embeddings import HuggingFaceEmbeddings\n",
    "from langchain_huggingface.llms import HuggingFacePipeline\n",
    "from langchain_pinecone import PineconeVectorStore\n",
    "from langchain.document_loaders import PyPDFLoader, DirectoryLoader\n",
    "from langchain.text_splitter import RecursiveCharacterTextSplitter\n",
    "from langchain.prompts import PromptTemplate"
   ]
  },
  {
   "cell_type": "markdown",
   "metadata": {},
   "source": [
    "## Config Manager set up"
   ]
  },
  {
   "cell_type": "code",
   "execution_count": 2,
   "metadata": {},
   "outputs": [],
   "source": [
    "class ConfigManager:\n",
    "    def __init__(self, json_config_path: str):\n",
    "        self.json_config_path = json_config_path\n",
    "        self.json_config = None\n",
    "\n",
    "        self._load_config_json()\n",
    "\n",
    "    def _load_config_json(self):\n",
    "        try:\n",
    "            with open(self.json_config_path, \"r\") as file_obj:\n",
    "                self.json_config = json.load(file_obj)\n",
    "        except FileNotFoundError:\n",
    "            raise FileNotFoundError(f\"Configuration file not found: {self.json_config_path}\")\n",
    "        except json.JSONDecodeError as e:\n",
    "            raise ValueError(f\"Error decoding JSON file: {e}\")\n",
    "\n",
    "    def get_config(self, keys: str | list, default=None):\n",
    "        if isinstance(keys, str):\n",
    "            keys = [keys]\n",
    "\n",
    "        data = self.json_config\n",
    "        for key in keys:\n",
    "            if isinstance(data, dict):\n",
    "                data = data.get(key, default)\n",
    "            else:\n",
    "                return default\n",
    "        return data"
   ]
  },
  {
   "cell_type": "code",
   "execution_count": 3,
   "metadata": {},
   "outputs": [],
   "source": [
    "config_manager = ConfigManager(\"config.json\")"
   ]
  },
  {
   "cell_type": "markdown",
   "metadata": {},
   "source": [
    "## Load environment varibales"
   ]
  },
  {
   "cell_type": "code",
   "execution_count": 4,
   "metadata": {},
   "outputs": [],
   "source": [
    "_ = load_dotenv()"
   ]
  },
  {
   "cell_type": "markdown",
   "metadata": {},
   "source": [
    "# Load LLM model"
   ]
  },
  {
   "cell_type": "markdown",
   "metadata": {},
   "source": [
    "## Save model"
   ]
  },
  {
   "cell_type": "code",
   "execution_count": 5,
   "metadata": {},
   "outputs": [],
   "source": [
    "model = transformers.AutoModelForCausalLM.from_pretrained(\n",
    "    config_manager.get_config(\"llm_model_repository_name\"), \n",
    "    torch_dtype=torch.bfloat16, \n",
    "    trust_remote_code=True,\n",
    "    token=os.getenv(\"HUGGINGFACE_TOKEN\"),\n",
    ")\n",
    "\n",
    "_ = model.save_pretrained(config_manager.get_config(\"llm_model_directory\"))"
   ]
  },
  {
   "cell_type": "markdown",
   "metadata": {},
   "source": [
    "## Save tokenizer"
   ]
  },
  {
   "cell_type": "code",
   "execution_count": 6,
   "metadata": {},
   "outputs": [],
   "source": [
    "tokenizer = transformers.AutoTokenizer.from_pretrained(\n",
    "    config_manager.get_config(\"llm_model_repository_name\"), \n",
    "    trust_remote_code=True,\n",
    "    token=os.getenv(\"HUGGINGFACE_TOKEN\")\n",
    ")\n",
    "\n",
    "_ = tokenizer.save_pretrained(config_manager.get_config(\"llm_model_directory\"))"
   ]
  },
  {
   "cell_type": "markdown",
   "metadata": {},
   "source": [
    "## Load LLM to be used"
   ]
  },
  {
   "cell_type": "code",
   "execution_count": 7,
   "metadata": {},
   "outputs": [],
   "source": [
    "generation_config = transformers.GenerationConfig(\n",
    "    max_length=config_manager.get_config([\"model_params\", \"max_length\"]),           \n",
    "    max_new_tokens=config_manager.get_config([\"model_params\", \"max_new_tokens\"]),  \n",
    "    temperature=config_manager.get_config([\"model_params\", \"temperature\"]),\n",
    "    repetition_penalty=config_manager.get_config([\"model_params\", \"repetition_penalty\"]),\n",
    "    no_repeat_ngram_size=config_manager.get_config([\"model_params\", \"no_repeat_ngram_size\"]),\n",
    "    early_stopping=bool(config_manager.get_config([\"model_params\", \"early_stopping\"])),\n",
    "    do_sample=bool(config_manager.get_config([\"model_params\", \"do_sample\"])),\n",
    "    num_beams=config_manager.get_config([\"model_params\", \"num_beams\"])\n",
    ")\n",
    "\n",
    "pipeline = transformers.pipeline(\n",
    "    \"text-generation\",\n",
    "    model=config_manager.get_config(\"llm_model_directory\"),\n",
    "    tokenizer=tokenizer,\n",
    "    torch_dtype=torch.bfloat16,\n",
    "    trust_remote_code=True,\n",
    "    device_map=\"auto\",\n",
    "    generation_config=generation_config,\n",
    ")"
   ]
  },
  {
   "cell_type": "code",
   "execution_count": 8,
   "metadata": {},
   "outputs": [],
   "source": [
    "llm = HuggingFacePipeline(pipeline=pipeline, verbose=True)"
   ]
  },
  {
   "cell_type": "markdown",
   "metadata": {},
   "source": [
    "## Load embedding model"
   ]
  },
  {
   "cell_type": "code",
   "execution_count": 9,
   "metadata": {},
   "outputs": [],
   "source": [
    "embeddings = HuggingFaceEmbeddings(\n",
    "    model_name=config_manager.get_config(\"embedding_model_name\")\n",
    ")"
   ]
  },
  {
   "cell_type": "markdown",
   "metadata": {},
   "source": [
    "# Process RAG documents"
   ]
  },
  {
   "cell_type": "markdown",
   "metadata": {},
   "source": [
    "## Load documents"
   ]
  },
  {
   "cell_type": "code",
   "execution_count": 10,
   "metadata": {},
   "outputs": [],
   "source": [
    "loader = DirectoryLoader(\n",
    "    config_manager.get_config(\"data_directory\"),\n",
    "    glob=\"*.pdf\",\n",
    "    loader_cls=PyPDFLoader,\n",
    "    show_progress=True\n",
    ")"
   ]
  },
  {
   "cell_type": "code",
   "execution_count": 11,
   "metadata": {},
   "outputs": [
    {
     "name": "stderr",
     "output_type": "stream",
     "text": [
      "100%|██████████| 2/2 [01:58<00:00, 59.48s/it]\n"
     ]
    }
   ],
   "source": [
    "extracted_data = loader.load()"
   ]
  },
  {
   "cell_type": "markdown",
   "metadata": {},
   "source": [
    "## Split into chunks"
   ]
  },
  {
   "cell_type": "code",
   "execution_count": 12,
   "metadata": {},
   "outputs": [],
   "source": [
    "text_splitter = RecursiveCharacterTextSplitter(\n",
    "    chunk_size=config_manager.get_config([\"text_split\", \"chunk_size\"]), \n",
    "    chunk_overlap=config_manager.get_config([\"text_split\", \"chunk_overlap\"])\n",
    ")\n",
    "\n",
    "data_chunks = text_splitter.split_documents(extracted_data)"
   ]
  },
  {
   "cell_type": "code",
   "execution_count": 13,
   "metadata": {},
   "outputs": [],
   "source": [
    "content_data_chunks = [chunk.page_content for chunk in data_chunks]"
   ]
  },
  {
   "cell_type": "code",
   "execution_count": 14,
   "metadata": {},
   "outputs": [],
   "source": [
    "def clean_and_format(strings):\n",
    "    cleaned_strings = []\n",
    "    for text in strings:\n",
    "        # Replace multiple newlines with a single space and remove unnecessary spacing\n",
    "        cleaned_text = ' '.join(text.split())\n",
    "        # Optional: Standardize separators (like bullet points or commas)\n",
    "        cleaned_text = cleaned_text.replace('•', '-').replace(';', ',')\n",
    "        cleaned_strings.append(cleaned_text)\n",
    "    return cleaned_strings"
   ]
  },
  {
   "cell_type": "code",
   "execution_count": 15,
   "metadata": {},
   "outputs": [],
   "source": [
    "formatted_data_chunks = clean_and_format(content_data_chunks)"
   ]
  },
  {
   "cell_type": "markdown",
   "metadata": {},
   "source": [
    "# Load documents into VectorDB (Pinecone)"
   ]
  },
  {
   "cell_type": "markdown",
   "metadata": {},
   "source": [
    "## Set up Pinecone connection"
   ]
  },
  {
   "cell_type": "code",
   "execution_count": 16,
   "metadata": {},
   "outputs": [],
   "source": [
    "pc = Pinecone(\n",
    "    api_key=os.getenv(\"PINECONE_API_KEY\"),\n",
    ")"
   ]
  },
  {
   "cell_type": "code",
   "execution_count": 17,
   "metadata": {},
   "outputs": [],
   "source": [
    "index = pc.Index(config_manager.get_config(\"pinecone_index_name\"))"
   ]
  },
  {
   "cell_type": "markdown",
   "metadata": {},
   "source": [
    "## Validate duplicated vectors"
   ]
  },
  {
   "cell_type": "code",
   "execution_count": 18,
   "metadata": {},
   "outputs": [],
   "source": [
    "empty_db = index.query(vector=embeddings.embed_query(\"test\"), top_k=1).get(\"matches\") == list()"
   ]
  },
  {
   "cell_type": "code",
   "execution_count": 19,
   "metadata": {},
   "outputs": [
    {
     "name": "stderr",
     "output_type": "stream",
     "text": [
      "Validating duplicated data chunks: 100%|██████████| 15684/15684 [02:10<00:00, 120.41it/s]\n"
     ]
    }
   ],
   "source": [
    "if not empty_db:\n",
    "    def check_duplication(chunk):\n",
    "        duplicated = index.query(vector=embeddings.embed_query(chunk), top_k=1).get(\"matches\")[0].get(\"score\") >= 0.99\n",
    "        return chunk.page_content if not duplicated else None\n",
    "\n",
    "    deduplicated_data_chunks = list()\n",
    "\n",
    "    with ThreadPoolExecutor() as executor:\n",
    "        futures = {executor.submit(check_duplication, chunk): chunk for chunk in formatted_data_chunks}\n",
    "\n",
    "        for future in tqdm(as_completed(futures), total=len(formatted_data_chunks), desc=\"Validating duplicated data chunks\"):\n",
    "            result = future.result()\n",
    "            if result:\n",
    "                deduplicated_data_chunks.append(result)\n",
    "else:\n",
    "    deduplicated_data_chunks = formatted_data_chunks"
   ]
  },
  {
   "cell_type": "code",
   "execution_count": 20,
   "metadata": {},
   "outputs": [
    {
     "name": "stdout",
     "output_type": "stream",
     "text": [
      "0 not duplicated vectors will be added.\n"
     ]
    }
   ],
   "source": [
    "print(f\"{len(deduplicated_data_chunks)} not duplicated vectors will be added.\")"
   ]
  },
  {
   "cell_type": "markdown",
   "metadata": {},
   "source": [
    "## Upload Documents"
   ]
  },
  {
   "cell_type": "code",
   "execution_count": 21,
   "metadata": {},
   "outputs": [],
   "source": [
    "vector_store = PineconeVectorStore(index=index, embedding=embeddings)"
   ]
  },
  {
   "cell_type": "code",
   "execution_count": 22,
   "metadata": {},
   "outputs": [],
   "source": [
    "def generate_id(content):\n",
    "    return hashlib.md5(content.encode()).hexdigest()"
   ]
  },
  {
   "cell_type": "code",
   "execution_count": 23,
   "metadata": {},
   "outputs": [],
   "source": [
    "data_chunks_ids = [generate_id(chunk) for chunk in deduplicated_data_chunks]"
   ]
  },
  {
   "cell_type": "code",
   "execution_count": 24,
   "metadata": {},
   "outputs": [],
   "source": [
    "_ = vector_store.add_texts(texts=deduplicated_data_chunks, ids=data_chunks_ids)"
   ]
  },
  {
   "cell_type": "markdown",
   "metadata": {},
   "source": [
    "# Test question"
   ]
  },
  {
   "cell_type": "code",
   "execution_count": 25,
   "metadata": {},
   "outputs": [],
   "source": [
    "prompt=\"\"\"\n",
    "You are a medical expert, and you have to answer the questions provided by patience below.\n",
    "In addition to the question, you have access to the context which is additional information which could be helpful to answer the question.\n",
    "Take into account:\n",
    "- If you don't have enough information to answer them please answer: I don't have enough information to answer that question.\n",
    "- The answer should be clear, complete taking into account the context and short.\n",
    "- The answer needs to be easy to understand and well structured.\n",
    "- The maximum amount of characters is 1500\n",
    "- Only return the helpful answer below and nothing else.\n",
    "\n",
    "Question: \n",
    "{question}\n",
    "\n",
    "Context: \n",
    "{context}\n",
    "\n",
    "___\n",
    "Answer:\n",
    "\"\"\""
   ]
  },
  {
   "cell_type": "code",
   "execution_count": 26,
   "metadata": {},
   "outputs": [],
   "source": [
    "prompt_template = PromptTemplate(\n",
    "    template=prompt, \n",
    "    input_variables=[\"context\", \"question\"]\n",
    ")\n",
    "\n",
    "chain_type_kwargs={\"prompt\": prompt_template}"
   ]
  },
  {
   "cell_type": "markdown",
   "metadata": {},
   "source": [
    "# Retrieval Question Answering"
   ]
  },
  {
   "cell_type": "code",
   "execution_count": 27,
   "metadata": {},
   "outputs": [],
   "source": [
    "qa=RetrievalQA.from_chain_type(\n",
    "    llm=llm,\n",
    "    chain_type=\"stuff\",\n",
    "    retriever=vector_store.as_retriever(search_kwargs={\"k\": 3}),\n",
    "    return_source_documents=True,\n",
    "    chain_type_kwargs=chain_type_kwargs\n",
    ")"
   ]
  },
  {
   "cell_type": "markdown",
   "metadata": {},
   "source": [
    "## Test"
   ]
  },
  {
   "cell_type": "code",
   "execution_count": 28,
   "metadata": {},
   "outputs": [
    {
     "name": "stderr",
     "output_type": "stream",
     "text": [
      "Setting `pad_token_id` to `eos_token_id`:None for open-end generation.\n"
     ]
    }
   ],
   "source": [
    "response = qa.invoke({\"query\": \"Can you explain to me what arthritis is?\"}, verbose=True)"
   ]
  },
  {
   "cell_type": "code",
   "execution_count": 29,
   "metadata": {},
   "outputs": [],
   "source": [
    "result = response.get(\"result\")"
   ]
  },
  {
   "cell_type": "code",
   "execution_count": 30,
   "metadata": {},
   "outputs": [
    {
     "name": "stdout",
     "output_type": "stream",
     "text": [
      "\n",
      "You are a medical expert, and you have to answer the questions provided by patience below.\n",
      "In addition to the question, you have access to the context which is additional information which could be helpful to answer the question.\n",
      "Take into account:\n",
      "- If you don't have enough information to answer them please answer: I don't have enough information to answer that question.\n",
      "- The answer should be clear, complete taking into account the context and short.\n",
      "- The answer needs to be easy to understand and well structured.\n",
      "- The maximum amount of characters is 1500\n",
      "- Only return the helpful answer below and nothing else.\n",
      "\n",
      "Question: \n",
      "Can you explain to me what arthritis is?\n",
      "\n",
      "Context: \n",
      "rheumatism A popular term for any disorder that causes pain and stiffness in muscles and joints. The term is used to refer both to minor aches and twinges as well as to disorders such as rheumatoid arthritis , osteoarthritis, and polymyalgia rheumatica. rheumatoid arthritis A type of arthritis (joint inflammation) in which the joints in the limbs, and sometimes in other parts of the body , become painful, swollen, stiff, and, in severe cases, deformed. Tissues that are\n",
      "\n",
      "teristics. The most common type is osteoarthritis, which most often involves the knees, hips, and hands. It usually affects middle-aged and older people because it results principally from wear and tear on the joints. Cervical osteo- arthritis is a form of osteoarthritis that affects the joints in the neck. Rheumatoid arthritis is a damaging auto- immune disorder (in which the immune system attacks the body ’s own tissues) that causes inflammation in the joints\n",
      "\n",
      "arteries, disorders of.) arthralgia Pain in the joints or in a single joint. (See also arthritis, joint.) arthritis Inflammation of one or more joints that is characterized by pain, swelling, and stiffness. Arthritis can vary in seve- rity from a mild ache and joint stiffness to severe pain and, subsequently , de- formity of the joints. TYPES AND CAUSES There are several different types of arthritis, each having different charac- teristics. The most common type is\n",
      "\n",
      "___\n",
      "Answer:\n",
      "Arthritis is an inflammatory disease of the synovial joints. It is caused by an autoimmune response against the cartilage and/or bone of the joint. It can affect any joint in the body, but is most commonly seen in the hands, feet, spine, and knees. There are two main types: Osteoarthri- tis (OA) is the most common form of arthritis. It occurs when the protective cartilage that covers the ends of the bones wears away. This causes the bones to rub against each other, causing pain, stiffness, and loss of function. RA is an autoimmune disease that causes the body’s immune system to attack its own tissues. This leads to inflammation and damage to the joints and surrounding tissues. Symptoms of arthritis include pain, tenderness, and swelling in the affected joints. Other symptoms may include fatigue, loss of appetite, weight loss, and fever. Treatment for arthritis depends on the type and severity of the disease. For OA, non-steroidal anti-inflammatory drugs (NSAIDs) such as ibuprofen or naproxen can help reduce pain and inflammation. For RA, corticosteroid injections or immunosuppressant medications such as methotrexate or sulfasalazine can be used to reduce inflammation and improve joint function. In some cases, surgery may be necessary to repair damaged joints or remove inflamed tissue.\n"
     ]
    }
   ],
   "source": [
    "print(result)"
   ]
  },
  {
   "cell_type": "code",
   "execution_count": 31,
   "metadata": {},
   "outputs": [
    {
     "name": "stdout",
     "output_type": "stream",
     "text": [
      "Response token amount: 738.\n"
     ]
    }
   ],
   "source": [
    "print(f\"Response token amount: {len(tokenizer.encode(result))}.\")"
   ]
  },
  {
   "cell_type": "code",
   "execution_count": 32,
   "metadata": {},
   "outputs": [
    {
     "name": "stdout",
     "output_type": "stream",
     "text": [
      "\n",
      "Arthritis is an inflammatory disease of the synovial joints. It is caused by an autoimmune response against the cartilage and/or bone of the joint. It can affect any joint in the body, but is most commonly seen in the hands, feet, spine, and knees. There are two main types: Osteoarthri- tis (OA) is the most common form of arthritis. It occurs when the protective cartilage that covers the ends of the bones wears away. This causes the bones to rub against each other, causing pain, stiffness, and loss of function. RA is an autoimmune disease that causes the body’s immune system to attack its own tissues. This leads to inflammation and damage to the joints and surrounding tissues. Symptoms of arthritis include pain, tenderness, and swelling in the affected joints. Other symptoms may include fatigue, loss of appetite, weight loss, and fever. Treatment for arthritis depends on the type and severity of the disease. For OA, non-steroidal anti-inflammatory drugs (NSAIDs) such as ibuprofen or naproxen can help reduce pain and inflammation. For RA, corticosteroid injections or immunosuppressant medications such as methotrexate or sulfasalazine can be used to reduce inflammation and improve joint function. In some cases, surgery may be necessary to repair damaged joints or remove inflamed tissue.\n"
     ]
    }
   ],
   "source": [
    "answer = result.split(\"__\\nAnswer:\")[-1]\n",
    "print(answer)"
   ]
  },
  {
   "cell_type": "code",
   "execution_count": 33,
   "metadata": {},
   "outputs": [
    {
     "name": "stdout",
     "output_type": "stream",
     "text": [
      "Answer token amount: 281.\n"
     ]
    }
   ],
   "source": [
    "print(f\"Answer token amount: {len(tokenizer.encode(answer))}.\")"
   ]
  },
  {
   "cell_type": "code",
   "execution_count": null,
   "metadata": {},
   "outputs": [],
   "source": []
  }
 ],
 "metadata": {
  "kernelspec": {
   "display_name": ".venv",
   "language": "python",
   "name": "python3"
  },
  "language_info": {
   "codemirror_mode": {
    "name": "ipython",
    "version": 3
   },
   "file_extension": ".py",
   "mimetype": "text/x-python",
   "name": "python",
   "nbconvert_exporter": "python",
   "pygments_lexer": "ipython3",
   "version": "3.11.3"
  }
 },
 "nbformat": 4,
 "nbformat_minor": 2
}
